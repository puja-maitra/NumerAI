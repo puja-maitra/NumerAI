{
  "nbformat": 4,
  "nbformat_minor": 0,
  "metadata": {
    "colab": {
      "name": "assignment1.ipynb",
      "provenance": [],
      "collapsed_sections": [],
      "authorship_tag": "ABX9TyPJx0nvD0HTz/6IsX2qaalw",
      "include_colab_link": true
    },
    "kernelspec": {
      "name": "python3",
      "display_name": "Python 3"
    },
    "language_info": {
      "name": "python"
    }
  },
  "cells": [
    {
      "cell_type": "markdown",
      "metadata": {
        "id": "view-in-github",
        "colab_type": "text"
      },
      "source": [
        "<a href=\"https://colab.research.google.com/github/puja-maitra/NumerAI/blob/main/assignment1.ipynb\" target=\"_parent\"><img src=\"https://colab.research.google.com/assets/colab-badge.svg\" alt=\"Open In Colab\"/></a>"
      ]
    },
    {
      "cell_type": "code",
      "source": [
        "from google.colab import files\n",
        "uploaded = files.upload()"
      ],
      "metadata": {
        "colab": {
          "resources": {
            "http://localhost:8080/nbextensions/google.colab/files.js": {
              "data": "Ly8gQ29weXJpZ2h0IDIwMTcgR29vZ2xlIExMQwovLwovLyBMaWNlbnNlZCB1bmRlciB0aGUgQXBhY2hlIExpY2Vuc2UsIFZlcnNpb24gMi4wICh0aGUgIkxpY2Vuc2UiKTsKLy8geW91IG1heSBub3QgdXNlIHRoaXMgZmlsZSBleGNlcHQgaW4gY29tcGxpYW5jZSB3aXRoIHRoZSBMaWNlbnNlLgovLyBZb3UgbWF5IG9idGFpbiBhIGNvcHkgb2YgdGhlIExpY2Vuc2UgYXQKLy8KLy8gICAgICBodHRwOi8vd3d3LmFwYWNoZS5vcmcvbGljZW5zZXMvTElDRU5TRS0yLjAKLy8KLy8gVW5sZXNzIHJlcXVpcmVkIGJ5IGFwcGxpY2FibGUgbGF3IG9yIGFncmVlZCB0byBpbiB3cml0aW5nLCBzb2Z0d2FyZQovLyBkaXN0cmlidXRlZCB1bmRlciB0aGUgTGljZW5zZSBpcyBkaXN0cmlidXRlZCBvbiBhbiAiQVMgSVMiIEJBU0lTLAovLyBXSVRIT1VUIFdBUlJBTlRJRVMgT1IgQ09ORElUSU9OUyBPRiBBTlkgS0lORCwgZWl0aGVyIGV4cHJlc3Mgb3IgaW1wbGllZC4KLy8gU2VlIHRoZSBMaWNlbnNlIGZvciB0aGUgc3BlY2lmaWMgbGFuZ3VhZ2UgZ292ZXJuaW5nIHBlcm1pc3Npb25zIGFuZAovLyBsaW1pdGF0aW9ucyB1bmRlciB0aGUgTGljZW5zZS4KCi8qKgogKiBAZmlsZW92ZXJ2aWV3IEhlbHBlcnMgZm9yIGdvb2dsZS5jb2xhYiBQeXRob24gbW9kdWxlLgogKi8KKGZ1bmN0aW9uKHNjb3BlKSB7CmZ1bmN0aW9uIHNwYW4odGV4dCwgc3R5bGVBdHRyaWJ1dGVzID0ge30pIHsKICBjb25zdCBlbGVtZW50ID0gZG9jdW1lbnQuY3JlYXRlRWxlbWVudCgnc3BhbicpOwogIGVsZW1lbnQudGV4dENvbnRlbnQgPSB0ZXh0OwogIGZvciAoY29uc3Qga2V5IG9mIE9iamVjdC5rZXlzKHN0eWxlQXR0cmlidXRlcykpIHsKICAgIGVsZW1lbnQuc3R5bGVba2V5XSA9IHN0eWxlQXR0cmlidXRlc1trZXldOwogIH0KICByZXR1cm4gZWxlbWVudDsKfQoKLy8gTWF4IG51bWJlciBvZiBieXRlcyB3aGljaCB3aWxsIGJlIHVwbG9hZGVkIGF0IGEgdGltZS4KY29uc3QgTUFYX1BBWUxPQURfU0laRSA9IDEwMCAqIDEwMjQ7CgpmdW5jdGlvbiBfdXBsb2FkRmlsZXMoaW5wdXRJZCwgb3V0cHV0SWQpIHsKICBjb25zdCBzdGVwcyA9IHVwbG9hZEZpbGVzU3RlcChpbnB1dElkLCBvdXRwdXRJZCk7CiAgY29uc3Qgb3V0cHV0RWxlbWVudCA9IGRvY3VtZW50LmdldEVsZW1lbnRCeUlkKG91dHB1dElkKTsKICAvLyBDYWNoZSBzdGVwcyBvbiB0aGUgb3V0cHV0RWxlbWVudCB0byBtYWtlIGl0IGF2YWlsYWJsZSBmb3IgdGhlIG5leHQgY2FsbAogIC8vIHRvIHVwbG9hZEZpbGVzQ29udGludWUgZnJvbSBQeXRob24uCiAgb3V0cHV0RWxlbWVudC5zdGVwcyA9IHN0ZXBzOwoKICByZXR1cm4gX3VwbG9hZEZpbGVzQ29udGludWUob3V0cHV0SWQpOwp9CgovLyBUaGlzIGlzIHJvdWdobHkgYW4gYXN5bmMgZ2VuZXJhdG9yIChub3Qgc3VwcG9ydGVkIGluIHRoZSBicm93c2VyIHlldCksCi8vIHdoZXJlIHRoZXJlIGFyZSBtdWx0aXBsZSBhc3luY2hyb25vdXMgc3RlcHMgYW5kIHRoZSBQeXRob24gc2lkZSBpcyBnb2luZwovLyB0byBwb2xsIGZvciBjb21wbGV0aW9uIG9mIGVhY2ggc3RlcC4KLy8gVGhpcyB1c2VzIGEgUHJvbWlzZSB0byBibG9jayB0aGUgcHl0aG9uIHNpZGUgb24gY29tcGxldGlvbiBvZiBlYWNoIHN0ZXAsCi8vIHRoZW4gcGFzc2VzIHRoZSByZXN1bHQgb2YgdGhlIHByZXZpb3VzIHN0ZXAgYXMgdGhlIGlucHV0IHRvIHRoZSBuZXh0IHN0ZXAuCmZ1bmN0aW9uIF91cGxvYWRGaWxlc0NvbnRpbnVlKG91dHB1dElkKSB7CiAgY29uc3Qgb3V0cHV0RWxlbWVudCA9IGRvY3VtZW50LmdldEVsZW1lbnRCeUlkKG91dHB1dElkKTsKICBjb25zdCBzdGVwcyA9IG91dHB1dEVsZW1lbnQuc3RlcHM7CgogIGNvbnN0IG5leHQgPSBzdGVwcy5uZXh0KG91dHB1dEVsZW1lbnQubGFzdFByb21pc2VWYWx1ZSk7CiAgcmV0dXJuIFByb21pc2UucmVzb2x2ZShuZXh0LnZhbHVlLnByb21pc2UpLnRoZW4oKHZhbHVlKSA9PiB7CiAgICAvLyBDYWNoZSB0aGUgbGFzdCBwcm9taXNlIHZhbHVlIHRvIG1ha2UgaXQgYXZhaWxhYmxlIHRvIHRoZSBuZXh0CiAgICAvLyBzdGVwIG9mIHRoZSBnZW5lcmF0b3IuCiAgICBvdXRwdXRFbGVtZW50Lmxhc3RQcm9taXNlVmFsdWUgPSB2YWx1ZTsKICAgIHJldHVybiBuZXh0LnZhbHVlLnJlc3BvbnNlOwogIH0pOwp9CgovKioKICogR2VuZXJhdG9yIGZ1bmN0aW9uIHdoaWNoIGlzIGNhbGxlZCBiZXR3ZWVuIGVhY2ggYXN5bmMgc3RlcCBvZiB0aGUgdXBsb2FkCiAqIHByb2Nlc3MuCiAqIEBwYXJhbSB7c3RyaW5nfSBpbnB1dElkIEVsZW1lbnQgSUQgb2YgdGhlIGlucHV0IGZpbGUgcGlja2VyIGVsZW1lbnQuCiAqIEBwYXJhbSB7c3RyaW5nfSBvdXRwdXRJZCBFbGVtZW50IElEIG9mIHRoZSBvdXRwdXQgZGlzcGxheS4KICogQHJldHVybiB7IUl0ZXJhYmxlPCFPYmplY3Q+fSBJdGVyYWJsZSBvZiBuZXh0IHN0ZXBzLgogKi8KZnVuY3Rpb24qIHVwbG9hZEZpbGVzU3RlcChpbnB1dElkLCBvdXRwdXRJZCkgewogIGNvbnN0IGlucHV0RWxlbWVudCA9IGRvY3VtZW50LmdldEVsZW1lbnRCeUlkKGlucHV0SWQpOwogIGlucHV0RWxlbWVudC5kaXNhYmxlZCA9IGZhbHNlOwoKICBjb25zdCBvdXRwdXRFbGVtZW50ID0gZG9jdW1lbnQuZ2V0RWxlbWVudEJ5SWQob3V0cHV0SWQpOwogIG91dHB1dEVsZW1lbnQuaW5uZXJIVE1MID0gJyc7CgogIGNvbnN0IHBpY2tlZFByb21pc2UgPSBuZXcgUHJvbWlzZSgocmVzb2x2ZSkgPT4gewogICAgaW5wdXRFbGVtZW50LmFkZEV2ZW50TGlzdGVuZXIoJ2NoYW5nZScsIChlKSA9PiB7CiAgICAgIHJlc29sdmUoZS50YXJnZXQuZmlsZXMpOwogICAgfSk7CiAgfSk7CgogIGNvbnN0IGNhbmNlbCA9IGRvY3VtZW50LmNyZWF0ZUVsZW1lbnQoJ2J1dHRvbicpOwogIGlucHV0RWxlbWVudC5wYXJlbnRFbGVtZW50LmFwcGVuZENoaWxkKGNhbmNlbCk7CiAgY2FuY2VsLnRleHRDb250ZW50ID0gJ0NhbmNlbCB1cGxvYWQnOwogIGNvbnN0IGNhbmNlbFByb21pc2UgPSBuZXcgUHJvbWlzZSgocmVzb2x2ZSkgPT4gewogICAgY2FuY2VsLm9uY2xpY2sgPSAoKSA9PiB7CiAgICAgIHJlc29sdmUobnVsbCk7CiAgICB9OwogIH0pOwoKICAvLyBXYWl0IGZvciB0aGUgdXNlciB0byBwaWNrIHRoZSBmaWxlcy4KICBjb25zdCBmaWxlcyA9IHlpZWxkIHsKICAgIHByb21pc2U6IFByb21pc2UucmFjZShbcGlja2VkUHJvbWlzZSwgY2FuY2VsUHJvbWlzZV0pLAogICAgcmVzcG9uc2U6IHsKICAgICAgYWN0aW9uOiAnc3RhcnRpbmcnLAogICAgfQogIH07CgogIGNhbmNlbC5yZW1vdmUoKTsKCiAgLy8gRGlzYWJsZSB0aGUgaW5wdXQgZWxlbWVudCBzaW5jZSBmdXJ0aGVyIHBpY2tzIGFyZSBub3QgYWxsb3dlZC4KICBpbnB1dEVsZW1lbnQuZGlzYWJsZWQgPSB0cnVlOwoKICBpZiAoIWZpbGVzKSB7CiAgICByZXR1cm4gewogICAgICByZXNwb25zZTogewogICAgICAgIGFjdGlvbjogJ2NvbXBsZXRlJywKICAgICAgfQogICAgfTsKICB9CgogIGZvciAoY29uc3QgZmlsZSBvZiBmaWxlcykgewogICAgY29uc3QgbGkgPSBkb2N1bWVudC5jcmVhdGVFbGVtZW50KCdsaScpOwogICAgbGkuYXBwZW5kKHNwYW4oZmlsZS5uYW1lLCB7Zm9udFdlaWdodDogJ2JvbGQnfSkpOwogICAgbGkuYXBwZW5kKHNwYW4oCiAgICAgICAgYCgke2ZpbGUudHlwZSB8fCAnbi9hJ30pIC0gJHtmaWxlLnNpemV9IGJ5dGVzLCBgICsKICAgICAgICBgbGFzdCBtb2RpZmllZDogJHsKICAgICAgICAgICAgZmlsZS5sYXN0TW9kaWZpZWREYXRlID8gZmlsZS5sYXN0TW9kaWZpZWREYXRlLnRvTG9jYWxlRGF0ZVN0cmluZygpIDoKICAgICAgICAgICAgICAgICAgICAgICAgICAgICAgICAgICAgJ24vYSd9IC0gYCkpOwogICAgY29uc3QgcGVyY2VudCA9IHNwYW4oJzAlIGRvbmUnKTsKICAgIGxpLmFwcGVuZENoaWxkKHBlcmNlbnQpOwoKICAgIG91dHB1dEVsZW1lbnQuYXBwZW5kQ2hpbGQobGkpOwoKICAgIGNvbnN0IGZpbGVEYXRhUHJvbWlzZSA9IG5ldyBQcm9taXNlKChyZXNvbHZlKSA9PiB7CiAgICAgIGNvbnN0IHJlYWRlciA9IG5ldyBGaWxlUmVhZGVyKCk7CiAgICAgIHJlYWRlci5vbmxvYWQgPSAoZSkgPT4gewogICAgICAgIHJlc29sdmUoZS50YXJnZXQucmVzdWx0KTsKICAgICAgfTsKICAgICAgcmVhZGVyLnJlYWRBc0FycmF5QnVmZmVyKGZpbGUpOwogICAgfSk7CiAgICAvLyBXYWl0IGZvciB0aGUgZGF0YSB0byBiZSByZWFkeS4KICAgIGxldCBmaWxlRGF0YSA9IHlpZWxkIHsKICAgICAgcHJvbWlzZTogZmlsZURhdGFQcm9taXNlLAogICAgICByZXNwb25zZTogewogICAgICAgIGFjdGlvbjogJ2NvbnRpbnVlJywKICAgICAgfQogICAgfTsKCiAgICAvLyBVc2UgYSBjaHVua2VkIHNlbmRpbmcgdG8gYXZvaWQgbWVzc2FnZSBzaXplIGxpbWl0cy4gU2VlIGIvNjIxMTU2NjAuCiAgICBsZXQgcG9zaXRpb24gPSAwOwogICAgZG8gewogICAgICBjb25zdCBsZW5ndGggPSBNYXRoLm1pbihmaWxlRGF0YS5ieXRlTGVuZ3RoIC0gcG9zaXRpb24sIE1BWF9QQVlMT0FEX1NJWkUpOwogICAgICBjb25zdCBjaHVuayA9IG5ldyBVaW50OEFycmF5KGZpbGVEYXRhLCBwb3NpdGlvbiwgbGVuZ3RoKTsKICAgICAgcG9zaXRpb24gKz0gbGVuZ3RoOwoKICAgICAgY29uc3QgYmFzZTY0ID0gYnRvYShTdHJpbmcuZnJvbUNoYXJDb2RlLmFwcGx5KG51bGwsIGNodW5rKSk7CiAgICAgIHlpZWxkIHsKICAgICAgICByZXNwb25zZTogewogICAgICAgICAgYWN0aW9uOiAnYXBwZW5kJywKICAgICAgICAgIGZpbGU6IGZpbGUubmFtZSwKICAgICAgICAgIGRhdGE6IGJhc2U2NCwKICAgICAgICB9LAogICAgICB9OwoKICAgICAgbGV0IHBlcmNlbnREb25lID0gZmlsZURhdGEuYnl0ZUxlbmd0aCA9PT0gMCA/CiAgICAgICAgICAxMDAgOgogICAgICAgICAgTWF0aC5yb3VuZCgocG9zaXRpb24gLyBmaWxlRGF0YS5ieXRlTGVuZ3RoKSAqIDEwMCk7CiAgICAgIHBlcmNlbnQudGV4dENvbnRlbnQgPSBgJHtwZXJjZW50RG9uZX0lIGRvbmVgOwoKICAgIH0gd2hpbGUgKHBvc2l0aW9uIDwgZmlsZURhdGEuYnl0ZUxlbmd0aCk7CiAgfQoKICAvLyBBbGwgZG9uZS4KICB5aWVsZCB7CiAgICByZXNwb25zZTogewogICAgICBhY3Rpb246ICdjb21wbGV0ZScsCiAgICB9CiAgfTsKfQoKc2NvcGUuZ29vZ2xlID0gc2NvcGUuZ29vZ2xlIHx8IHt9OwpzY29wZS5nb29nbGUuY29sYWIgPSBzY29wZS5nb29nbGUuY29sYWIgfHwge307CnNjb3BlLmdvb2dsZS5jb2xhYi5fZmlsZXMgPSB7CiAgX3VwbG9hZEZpbGVzLAogIF91cGxvYWRGaWxlc0NvbnRpbnVlLAp9Owp9KShzZWxmKTsK",
              "ok": true,
              "headers": [
                [
                  "content-type",
                  "application/javascript"
                ]
              ],
              "status": 200,
              "status_text": ""
            }
          },
          "base_uri": "https://localhost:8080/",
          "height": 142
        },
        "id": "oMf_l9wk5j37",
        "outputId": "add5bdd8-8fb3-4e15-b83d-8f189f43ed24"
      },
      "execution_count": 1,
      "outputs": [
        {
          "output_type": "display_data",
          "data": {
            "text/plain": [
              "<IPython.core.display.HTML object>"
            ],
            "text/html": [
              "\n",
              "     <input type=\"file\" id=\"files-049a401b-2242-4f15-a35b-0685f8659ef6\" name=\"files[]\" multiple disabled\n",
              "        style=\"border:none\" />\n",
              "     <output id=\"result-049a401b-2242-4f15-a35b-0685f8659ef6\">\n",
              "      Upload widget is only available when the cell has been executed in the\n",
              "      current browser session. Please rerun this cell to enable.\n",
              "      </output>\n",
              "      <script src=\"/nbextensions/google.colab/files.js\"></script> "
            ]
          },
          "metadata": {}
        },
        {
          "output_type": "stream",
          "name": "stdout",
          "text": [
            "Saving correlations.npy to correlations (1).npy\n",
            "Saving test.pic to test (1).pic\n",
            "Saving train.pic to train (1).pic\n"
          ]
        }
      ]
    },
    {
      "cell_type": "code",
      "execution_count": 5,
      "metadata": {
        "id": "_ZP-VWxiFJ2R"
      },
      "outputs": [],
      "source": [
        "import numpy as np\n",
        "import pickle\n",
        "import random\n",
        "corr = None\n",
        "ifTest = False\n",
        "Ztr = {}\n",
        "Zte = {}\n",
        "\n",
        "# States are tuples of the form (x,y) where both x,y belong to the closed interval [0,9].\n",
        "\n",
        "# The terminology for action is :\n",
        "# -1 for SELL\n",
        "# 0 for HOLD\n",
        "# 1 for BUY\n",
        "\n",
        "# The returnNext function would take in the state and action, and return the next state, which you would get alongwith the price change associated with this tuple of (state,action)\n",
        "\n",
        "# This might be different in different turns as this change is stochastic in general with only a co-relation to the (state, action) tuple.\n",
        "\n",
        "\n",
        "def returnNext(state, action):\n",
        "    # Returns (priceChange, nextState) as a tuple\n",
        "    #nextState is actually a 2-tuple representing the state\n",
        "    a,b = state\n",
        "    L = []\n",
        "    if ifTest:\n",
        "        L = Zte[(a,b)]\n",
        "    else:\n",
        "        L = Ztr[(a,b)]\n",
        "    r = L[random.randint(0,len(L)-1)]\n",
        "    pricc = None\n",
        "    if action==-1:\n",
        "        if r[0]==0:\n",
        "            pricc =  r[4]\n",
        "        elif r[0]==1:\n",
        "            pricc =  r[3]\n",
        "        else:\n",
        "            pricc =  -r[3]\n",
        "    elif action==1:\n",
        "        if r[2]==0:\n",
        "            pricc =  r[4]\n",
        "        elif r[2]==1:\n",
        "            pricc =  r[3]\n",
        "        else:\n",
        "            pricc =  -r[3]\n",
        "    else:\n",
        "        if r[1]==0:\n",
        "            pricc =  r[4]\n",
        "        elif r[1]==1:\n",
        "            pricc =  r[3]\n",
        "        else:\n",
        "            pricc =  -r[3]\n",
        "    num = 3*(10*a + b) + action + 1\n",
        "\n",
        "    F = corr[num,:]\n",
        "    ch = np.random.choice(np.arange(0,100),p = list(F))\n",
        "    ca = ch // 10\n",
        "    cb = ch % 10\n",
        "    return (pricc,(ca,cb))\n",
        "\n",
        "\n",
        "\n",
        "# Train your Markov Decision Process, make use of the returnNext function to model and act on the priceChanges dependence on the states and actions\n",
        "def Train():\n",
        "\n",
        "    #defining all states\n",
        "    all_states = []   \n",
        "    for i in range(10):\n",
        "      for j in range(10):\n",
        "        all_states.append((i,j))\n",
        "    \n",
        "    \n",
        "    rewards = {}\n",
        "    for i in range(10):\n",
        "      for j in range(10):\n",
        "        rewards[(i,j)] = i+j\n",
        "    \n",
        "    actions = {}\n",
        "    for i in range(10):\n",
        "      for j in range(10):\n",
        "        actions[(i,j)] = (1,0,-1)\n",
        "  \n",
        "\n",
        "    #value iteration/policy part\n",
        "    policy = {}\n",
        "    for s in actions.keys():\n",
        "      policy[s] = np.random.choice(1,0,-1)\n",
        "    \n",
        "    V = {}\n",
        "    for s in all_states:\n",
        "      if s in actions.keys():\n",
        "          V[s] = 0\n",
        "      if s ==(0,0):\n",
        "          V[s]=-1\n",
        "      if s == (9,9):\n",
        "          V[s]=1\n",
        "    \n",
        "\n",
        "\n",
        "    iteration = 0\n",
        "    while True:\n",
        "        biggest_change = 0\n",
        "        for s in all_states:            \n",
        "            if s in policy:\n",
        "                \n",
        "                old_v = V[s]\n",
        "                new_v = 0\n",
        "                \n",
        "                for a in actions[s]:\n",
        "                    #if a == 1:\n",
        "                    pc, nxt = returnNext(s,a)\n",
        "                    \n",
        "                    #Choose a new random action to do (transition probability)\n",
        "                    random_1=np.random.choice([i for i in actions[s] if i != a])\n",
        "                    #if random_1 == 1:\n",
        "                    pc1, nxt1 = returnNext(s,random_1)\n",
        "                \n",
        "                    #Calculate the value\n",
        "                    nxt = tuple(nxt)\n",
        "                    nxt1 = tuple(nxt1)\n",
        "                    GAMMA = 0.9\n",
        "                    NOISE = 0.1\n",
        "                    v = pc1 + (GAMMA * ((1-NOISE)* V[nxt] + (NOISE * V[nxt1]))) #reward will be the price change\n",
        "                    if v > new_v: \n",
        "                        new_v = v\n",
        "                        policy[s] = a\n",
        "\n",
        "          #Save the best of all actions for the state                                 \n",
        "                V[s] = new_v\n",
        "                biggest_change = max(biggest_change,(old_v - V[s]))\n",
        "            \n",
        "      #See if the loop should stop now  \n",
        "        SMALL_ENOUGH = 0.01       \n",
        "        if biggest_change < SMALL_ENOUGH:\n",
        "            return V\n",
        "            break\n",
        "        iteration += 1\n",
        "\n",
        "\n",
        "\n",
        "\n",
        "# This you need to write after training your MDP, this should just take in the state and return the Action you would perform\n",
        "# Please do not make use of the returnNext function inside here, that would defeat the purpose of training the model, as it would be known to you!\n",
        "\n",
        "def Run(state):\n",
        "    if v[state] == 0:\n",
        "      return -1\n",
        "    if( v[state] > 0 and v[state] <= 1):\n",
        "      return 0\n",
        "    else:\n",
        "      return 1\n",
        "    \n",
        "    \n",
        "\n",
        "# This is the main function, you don't need to tamper with it!\n",
        "def mainRun(iter = 1000):\n",
        "    initstate = (random.randint(0,9),random.randint(0,9))\n",
        "    i = 0\n",
        "    initprice = 100.00\n",
        "    price = initprice\n",
        "    balance = 0\n",
        "    bondbal = 0\n",
        "    networth = 0\n",
        "    st = initstate\n",
        "    while i < iter:\n",
        "        act = Run(st)\n",
        "        print(act)\n",
        "        pricCh, ns = returnNext(st,act)\n",
        "        price += pricCh\n",
        "        if act==1:\n",
        "            balance -= 10*price\n",
        "            bondbal += 10\n",
        "        elif act==-1:\n",
        "            balance += 10*price\n",
        "            bondbal -= 10\n",
        "        \n",
        "        networth = balance + bondbal*price\n",
        "        st = ns\n",
        "        print('Your Networth has went from 0 to ',networth)\n",
        "        i+=1\n",
        "\n",
        "\n",
        "\n",
        "\n",
        "\n",
        "\n",
        "\n",
        "\n",
        "\n",
        "\n",
        "\n",
        "\n",
        "\n",
        "\n"
      ]
    },
    {
      "cell_type": "code",
      "source": [
        "ftr = input('Test : Filename to read from?')\n",
        "fte = input('Train : Filename to read?')\n",
        "\n",
        "\n",
        "with open(ftr,'rb') as f:\n",
        "    Ztr = pickle.load(f)\n",
        "\n",
        "with open(fte,'rb') as f:\n",
        "    Zte = pickle.load(f)\n",
        "\n",
        "with open('correlations.npy','rb') as f:\n",
        "    corr = np.load(f)\n",
        "\n",
        "ifTest  = False\n",
        "v = Train()\n",
        "print(v)\n",
        "ifTest = True\n",
        "mainRun()"
      ],
      "metadata": {
        "colab": {
          "base_uri": "https://localhost:8080/"
        },
        "id": "Afic5c-wkEA2",
        "outputId": "2e416153-dd8c-408b-8a9e-92c75f01d2b5"
      },
      "execution_count": null,
      "outputs": [
        {
          "name": "stdout",
          "output_type": "stream",
          "text": [
            "Test : Filename to read from?test.pic\n",
            "Train : Filename to read?train.pic\n"
          ]
        }
      ]
    },
    {
      "cell_type": "code",
      "source": [
        "import pandas\n",
        "keys = v.keys()\n"
      ],
      "metadata": {
        "id": "B_NC0_E5kYry"
      },
      "execution_count": null,
      "outputs": []
    },
    {
      "cell_type": "code",
      "source": [
        "a = np.zeros(shape = (10,10))\n",
        "for i in keys:\n",
        "  x,y = i\n",
        "  a[i[0],i[1]] = v[x,y]"
      ],
      "metadata": {
        "id": "bNAOEO0Rk15Z"
      },
      "execution_count": null,
      "outputs": []
    },
    {
      "cell_type": "code",
      "source": [
        "vdf = pandas.DataFrame(a)"
      ],
      "metadata": {
        "id": "0DuJJIVDqWUf"
      },
      "execution_count": null,
      "outputs": []
    },
    {
      "cell_type": "code",
      "source": [
        "vdf"
      ],
      "metadata": {
        "id": "L0hfOwblqZsf"
      },
      "execution_count": null,
      "outputs": []
    }
  ]
}